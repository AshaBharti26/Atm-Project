{
 "cells": [
  {
   "cell_type": "code",
   "execution_count": 2,
   "id": "946c5b7d",
   "metadata": {},
   "outputs": [],
   "source": [
    "class Atm:\n",
    "    def __init__(self):\n",
    "        self.pin=\"\"\n",
    "        self.balance=0\n",
    "        self.menu()\n",
    "    \n",
    "    def menu(self):\n",
    "        user_input=input(\"\"\"\n",
    "                            Hello What would you like to proceed\n",
    "                            1.Enter 1 create Pin\n",
    "                            2.Enter 2 to deposit\n",
    "                            3.Enter 3 to withdraw\n",
    "                            4.Enter 4 to check balance\n",
    "                            5.Enter 5 to exit\n",
    "                            \"\"\")\n",
    "        if user_input==\"1\":\n",
    "            self.Create_pin()\n",
    "        elif user_input==\"2\":\n",
    "            self.Deposit()\n",
    "        elif user_input==\"3\":\n",
    "            self.Withdrawl()\n",
    "        elif user_input==\"4\":\n",
    "            self.Check_balance()\n",
    "        else:\n",
    "            print(\"Bye\")\n",
    "            \n",
    "    def Create_pin(self):\n",
    "        self.pin=input(\"Enter your pin\")\n",
    "        print(\"Pin Create Sucessfully\")\n",
    "    def Deposit(self):\n",
    "        temp=input(\"enter your pin\")\n",
    "        if temp==self.pin:\n",
    "            amount=int(input(\"enter balance to deposit\"))\n",
    "            self.balance=self.balance + amount\n",
    "            print(\"deposit sucessfully\")\n",
    "            c=input(\"\"\"\n",
    "                    check your balance\n",
    "                    1.Yes\n",
    "                    2.No\n",
    "            \"\"\")\n",
    "            if c==\"1\":\n",
    "                print(\"Total balance:-\",self.balance)\n",
    "            else:\n",
    "                print(\"Bye\")\n",
    "        else:\n",
    "            print(\"Invalid Pin\")\n",
    "            \n",
    "    def Withdrawl(self):\n",
    "        temp=input(\"enter your pin\")\n",
    "        if temp==self.pin:\n",
    "            amount=int(input(\"enter amount for withdrawl:-\"))\n",
    "            if amount<self.balance:\n",
    "                self.balance=self.balace - amount\n",
    "                print(\"Withdrawl sucessful\")\n",
    "                c=input(\"\"\"\n",
    "                    check your balance\n",
    "                    1.Yes\n",
    "                    2.No\n",
    "                \"\"\")\n",
    "                if c==\"1\":\n",
    "                    print(\"Total balance:-\",self.balance)\n",
    "                else:\n",
    "                    print(\"Bye\")\n",
    "            else:\n",
    "                print(\"Insufficient Balance  \")\n",
    "                \n",
    "        else:\n",
    "            print(\"Invalid Pin\")\n",
    "            \n",
    "    def Check_balance(self):\n",
    "        temp=input(\"enter your pin\")\n",
    "        if temp==self.pin:\n",
    "            print(\"Total balance:-\",self.balance)\n",
    "        else:\n",
    "            print(\"Invalid Pin\") \n",
    "                \n",
    "            \n",
    "        \n",
    "\n"
   ]
  },
  {
   "cell_type": "code",
   "execution_count": 5,
   "id": "f7736961",
   "metadata": {},
   "outputs": [
    {
     "name": "stdout",
     "output_type": "stream",
     "text": [
      "\n",
      "                            Hello What would you like to proceed\n",
      "                            1.Enter 1 create Pin\n",
      "                            2.Enter 2 to deposit\n",
      "                            3.Enter 3 to withdraw\n",
      "                            4.Enter 4 to check balance\n",
      "                            5.Enter 5 to exit\n",
      "                            1\n",
      "Enter your pin123\n",
      "Pin Create Sucessfully\n"
     ]
    }
   ],
   "source": [
    "sbi=Atm()"
   ]
  },
  {
   "cell_type": "code",
   "execution_count": 6,
   "id": "6a559684",
   "metadata": {},
   "outputs": [
    {
     "name": "stdout",
     "output_type": "stream",
     "text": [
      "enter your pin123\n",
      "enter balance to deposit3000\n",
      "deposit sucessfully\n",
      "\n",
      "                    check your balance\n",
      "                    1.Yes\n",
      "                    2.No\n",
      "            1\n",
      "Total balance:- 3000\n"
     ]
    }
   ],
   "source": [
    "sbi.Deposit()"
   ]
  },
  {
   "cell_type": "code",
   "execution_count": null,
   "id": "ffbb4aa0",
   "metadata": {},
   "outputs": [],
   "source": []
  }
 ],
 "metadata": {
  "kernelspec": {
   "display_name": "py3-kernel",
   "language": "python",
   "name": "py3-kernel"
  },
  "language_info": {
   "codemirror_mode": {
    "name": "ipython",
    "version": 3
   },
   "file_extension": ".py",
   "mimetype": "text/x-python",
   "name": "python",
   "nbconvert_exporter": "python",
   "pygments_lexer": "ipython3",
   "version": "3.12.1"
  }
 },
 "nbformat": 4,
 "nbformat_minor": 5
}
